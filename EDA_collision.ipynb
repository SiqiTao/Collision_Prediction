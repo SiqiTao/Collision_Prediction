{
 "cells": [
  {
   "cell_type": "markdown",
   "id": "d8885ea7-deb9-4104-b010-39c3c344196a",
   "metadata": {},
   "source": [
    "# Exploratory Data Analysis of the National Collision Database 2017"
   ]
  },
  {
   "cell_type": "code",
   "execution_count": 1,
   "id": "f964ad60-4414-4278-8b00-9024455b8b74",
   "metadata": {},
   "outputs": [],
   "source": [
    "import pandas as pd\n",
    "import numpy as np\n",
    "import altair as alt\n",
    "\n",
    "from sklearn.model_selection import train_test_split\n",
    "\n",
    "alt.data_transformers.enable('data_server')\n",
    "alt.renderers.enable('mimetype');"
   ]
  },
  {
   "cell_type": "code",
   "execution_count": 2,
   "id": "ff3c57b1-fe4c-4dde-9cf0-8e1e79b76307",
   "metadata": {},
   "outputs": [],
   "source": [
    "# pip install altair_data_server"
   ]
  },
  {
   "cell_type": "markdown",
   "id": "8bf07e97-b5bf-4841-87f3-47e00dcd5b60",
   "metadata": {},
   "source": [
    "## Read in the data set"
   ]
  },
  {
   "cell_type": "markdown",
   "id": "d62fbbdf-f9cf-495c-ab1c-c18c18d66d45",
   "metadata": {},
   "source": [
    "The data set used in this project is National Collision Database (NCDB) 2017 – a database containing all police-reported motor vehicle collisions on public roads in Canada in 2017. \n",
    "<ul>\n",
    "  <li><a href=\"https://open.canada.ca/data/en/dataset/1eb9eba7-71d1-4b30-9fb1-30cbdab7e63a/resource/01426d41-529c-443f-a901-6bc2f94f3d73\">\n",
    "      Data file can be found here.</a></li>\n",
    "  <li><a href=\"https://open.canada.ca/data/en/dataset/1eb9eba7-71d1-4b30-9fb1-30cbdab7e63a/resource/09b74afc-2745-4382-8a02-3e256c4b28fd\">\n",
    "      Data dictionary can be found here.</a></li>"
   ]
  },
  {
   "cell_type": "code",
   "execution_count": 3,
   "id": "22c18a3b-aaaa-4794-ae9f-2a89ab57ddba",
   "metadata": {},
   "outputs": [],
   "source": [
    "# Importing NCDB\n",
    "ncdb = pd.read_csv('data/NCDB_2017.csv', low_memory=False)\n",
    "\n",
    "# Creating 'FATALITY' column to convert multi-class outcomes to binary-class\n",
    "ncdb.loc[ncdb['P_ISEV'] == '3', 'FATALITY'] = \"True\"\n",
    "ncdb.loc[ncdb['P_ISEV'] != '3', 'FATALITY'] = \"False\""
   ]
  },
  {
   "cell_type": "markdown",
   "id": "526c94eb-72e5-495d-af39-67a04dbbc1eb",
   "metadata": {},
   "source": [
    "## Summarize the entire data set"
   ]
  },
  {
   "cell_type": "markdown",
   "id": "bb2b5018-0122-42d9-8c39-46850029c4f6",
   "metadata": {},
   "source": [
    "Each row in the data set represents different aspects of a collision, including the severity of the collision (no injury or injury or fatality) and other details (collision time, weather condition, road type, vehicle type, etc.)."
   ]
  },
  {
   "cell_type": "code",
   "execution_count": 4,
   "id": "732879aa-d81f-4aa8-8aa2-15d1c3edd920",
   "metadata": {},
   "outputs": [
    {
     "data": {
      "text/html": [
       "<div>\n",
       "<style scoped>\n",
       "    .dataframe tbody tr th:only-of-type {\n",
       "        vertical-align: middle;\n",
       "    }\n",
       "\n",
       "    .dataframe tbody tr th {\n",
       "        vertical-align: top;\n",
       "    }\n",
       "\n",
       "    .dataframe thead th {\n",
       "        text-align: right;\n",
       "    }\n",
       "</style>\n",
       "<table border=\"1\" class=\"dataframe\">\n",
       "  <thead>\n",
       "    <tr style=\"text-align: right;\">\n",
       "      <th></th>\n",
       "      <th>C_YEAR</th>\n",
       "      <th>C_MNTH</th>\n",
       "      <th>C_WDAY</th>\n",
       "      <th>C_HOUR</th>\n",
       "      <th>C_SEV</th>\n",
       "      <th>C_VEHS</th>\n",
       "      <th>C_CONF</th>\n",
       "      <th>C_RCFG</th>\n",
       "      <th>C_WTHR</th>\n",
       "      <th>C_RSUR</th>\n",
       "      <th>...</th>\n",
       "      <th>V_YEAR</th>\n",
       "      <th>P_ID</th>\n",
       "      <th>P_SEX</th>\n",
       "      <th>P_AGE</th>\n",
       "      <th>P_PSN</th>\n",
       "      <th>P_ISEV</th>\n",
       "      <th>P_SAFE</th>\n",
       "      <th>P_USER</th>\n",
       "      <th>C_CASE</th>\n",
       "      <th>FATALITY</th>\n",
       "    </tr>\n",
       "  </thead>\n",
       "  <tbody>\n",
       "    <tr>\n",
       "      <th>0</th>\n",
       "      <td>2017</td>\n",
       "      <td>01</td>\n",
       "      <td>1</td>\n",
       "      <td>10</td>\n",
       "      <td>2</td>\n",
       "      <td>01</td>\n",
       "      <td>02</td>\n",
       "      <td>03</td>\n",
       "      <td>1</td>\n",
       "      <td>3</td>\n",
       "      <td>...</td>\n",
       "      <td>UUUU</td>\n",
       "      <td>01</td>\n",
       "      <td>M</td>\n",
       "      <td>75</td>\n",
       "      <td>11</td>\n",
       "      <td>2</td>\n",
       "      <td>NN</td>\n",
       "      <td>1</td>\n",
       "      <td>2455950</td>\n",
       "      <td>False</td>\n",
       "    </tr>\n",
       "    <tr>\n",
       "      <th>1</th>\n",
       "      <td>2017</td>\n",
       "      <td>01</td>\n",
       "      <td>1</td>\n",
       "      <td>12</td>\n",
       "      <td>2</td>\n",
       "      <td>01</td>\n",
       "      <td>04</td>\n",
       "      <td>UU</td>\n",
       "      <td>1</td>\n",
       "      <td>5</td>\n",
       "      <td>...</td>\n",
       "      <td>UUUU</td>\n",
       "      <td>01</td>\n",
       "      <td>F</td>\n",
       "      <td>21</td>\n",
       "      <td>11</td>\n",
       "      <td>2</td>\n",
       "      <td>02</td>\n",
       "      <td>1</td>\n",
       "      <td>2455959</td>\n",
       "      <td>False</td>\n",
       "    </tr>\n",
       "    <tr>\n",
       "      <th>2</th>\n",
       "      <td>2017</td>\n",
       "      <td>01</td>\n",
       "      <td>1</td>\n",
       "      <td>00</td>\n",
       "      <td>2</td>\n",
       "      <td>01</td>\n",
       "      <td>03</td>\n",
       "      <td>UU</td>\n",
       "      <td>7</td>\n",
       "      <td>3</td>\n",
       "      <td>...</td>\n",
       "      <td>UUUU</td>\n",
       "      <td>01</td>\n",
       "      <td>F</td>\n",
       "      <td>34</td>\n",
       "      <td>11</td>\n",
       "      <td>2</td>\n",
       "      <td>02</td>\n",
       "      <td>1</td>\n",
       "      <td>2455998</td>\n",
       "      <td>False</td>\n",
       "    </tr>\n",
       "    <tr>\n",
       "      <th>3</th>\n",
       "      <td>2017</td>\n",
       "      <td>01</td>\n",
       "      <td>1</td>\n",
       "      <td>17</td>\n",
       "      <td>2</td>\n",
       "      <td>02</td>\n",
       "      <td>21</td>\n",
       "      <td>UU</td>\n",
       "      <td>1</td>\n",
       "      <td>1</td>\n",
       "      <td>...</td>\n",
       "      <td>UUUU</td>\n",
       "      <td>01</td>\n",
       "      <td>F</td>\n",
       "      <td>50</td>\n",
       "      <td>11</td>\n",
       "      <td>2</td>\n",
       "      <td>02</td>\n",
       "      <td>1</td>\n",
       "      <td>2456104</td>\n",
       "      <td>False</td>\n",
       "    </tr>\n",
       "    <tr>\n",
       "      <th>4</th>\n",
       "      <td>2017</td>\n",
       "      <td>01</td>\n",
       "      <td>1</td>\n",
       "      <td>17</td>\n",
       "      <td>2</td>\n",
       "      <td>02</td>\n",
       "      <td>21</td>\n",
       "      <td>UU</td>\n",
       "      <td>1</td>\n",
       "      <td>1</td>\n",
       "      <td>...</td>\n",
       "      <td>UUUU</td>\n",
       "      <td>01</td>\n",
       "      <td>M</td>\n",
       "      <td>63</td>\n",
       "      <td>11</td>\n",
       "      <td>1</td>\n",
       "      <td>NN</td>\n",
       "      <td>1</td>\n",
       "      <td>2456104</td>\n",
       "      <td>False</td>\n",
       "    </tr>\n",
       "    <tr>\n",
       "      <th>...</th>\n",
       "      <td>...</td>\n",
       "      <td>...</td>\n",
       "      <td>...</td>\n",
       "      <td>...</td>\n",
       "      <td>...</td>\n",
       "      <td>...</td>\n",
       "      <td>...</td>\n",
       "      <td>...</td>\n",
       "      <td>...</td>\n",
       "      <td>...</td>\n",
       "      <td>...</td>\n",
       "      <td>...</td>\n",
       "      <td>...</td>\n",
       "      <td>...</td>\n",
       "      <td>...</td>\n",
       "      <td>...</td>\n",
       "      <td>...</td>\n",
       "      <td>...</td>\n",
       "      <td>...</td>\n",
       "      <td>...</td>\n",
       "      <td>...</td>\n",
       "    </tr>\n",
       "    <tr>\n",
       "      <th>289836</th>\n",
       "      <td>2017</td>\n",
       "      <td>UU</td>\n",
       "      <td>U</td>\n",
       "      <td>UU</td>\n",
       "      <td>2</td>\n",
       "      <td>UU</td>\n",
       "      <td>UU</td>\n",
       "      <td>01</td>\n",
       "      <td>U</td>\n",
       "      <td>U</td>\n",
       "      <td>...</td>\n",
       "      <td>UUUU</td>\n",
       "      <td>01</td>\n",
       "      <td>F</td>\n",
       "      <td>20</td>\n",
       "      <td>11</td>\n",
       "      <td>1</td>\n",
       "      <td>NN</td>\n",
       "      <td>1</td>\n",
       "      <td>2455828</td>\n",
       "      <td>False</td>\n",
       "    </tr>\n",
       "    <tr>\n",
       "      <th>289837</th>\n",
       "      <td>2017</td>\n",
       "      <td>UU</td>\n",
       "      <td>U</td>\n",
       "      <td>UU</td>\n",
       "      <td>2</td>\n",
       "      <td>UU</td>\n",
       "      <td>UU</td>\n",
       "      <td>01</td>\n",
       "      <td>U</td>\n",
       "      <td>U</td>\n",
       "      <td>...</td>\n",
       "      <td>UUUU</td>\n",
       "      <td>01</td>\n",
       "      <td>F</td>\n",
       "      <td>47</td>\n",
       "      <td>11</td>\n",
       "      <td>1</td>\n",
       "      <td>NN</td>\n",
       "      <td>1</td>\n",
       "      <td>2455828</td>\n",
       "      <td>False</td>\n",
       "    </tr>\n",
       "    <tr>\n",
       "      <th>289838</th>\n",
       "      <td>2017</td>\n",
       "      <td>UU</td>\n",
       "      <td>U</td>\n",
       "      <td>UU</td>\n",
       "      <td>2</td>\n",
       "      <td>UU</td>\n",
       "      <td>UU</td>\n",
       "      <td>01</td>\n",
       "      <td>U</td>\n",
       "      <td>U</td>\n",
       "      <td>...</td>\n",
       "      <td>UUUU</td>\n",
       "      <td>01</td>\n",
       "      <td>M</td>\n",
       "      <td>24</td>\n",
       "      <td>11</td>\n",
       "      <td>1</td>\n",
       "      <td>NN</td>\n",
       "      <td>1</td>\n",
       "      <td>2455828</td>\n",
       "      <td>False</td>\n",
       "    </tr>\n",
       "    <tr>\n",
       "      <th>289839</th>\n",
       "      <td>2017</td>\n",
       "      <td>UU</td>\n",
       "      <td>U</td>\n",
       "      <td>23</td>\n",
       "      <td>2</td>\n",
       "      <td>01</td>\n",
       "      <td>03</td>\n",
       "      <td>01</td>\n",
       "      <td>1</td>\n",
       "      <td>1</td>\n",
       "      <td>...</td>\n",
       "      <td>UUUU</td>\n",
       "      <td>01</td>\n",
       "      <td>M</td>\n",
       "      <td>45</td>\n",
       "      <td>96</td>\n",
       "      <td>2</td>\n",
       "      <td>09</td>\n",
       "      <td>U</td>\n",
       "      <td>2570233</td>\n",
       "      <td>False</td>\n",
       "    </tr>\n",
       "    <tr>\n",
       "      <th>289840</th>\n",
       "      <td>2017</td>\n",
       "      <td>UU</td>\n",
       "      <td>U</td>\n",
       "      <td>23</td>\n",
       "      <td>2</td>\n",
       "      <td>01</td>\n",
       "      <td>03</td>\n",
       "      <td>01</td>\n",
       "      <td>1</td>\n",
       "      <td>1</td>\n",
       "      <td>...</td>\n",
       "      <td>UUUU</td>\n",
       "      <td>02</td>\n",
       "      <td>F</td>\n",
       "      <td>45</td>\n",
       "      <td>96</td>\n",
       "      <td>2</td>\n",
       "      <td>09</td>\n",
       "      <td>U</td>\n",
       "      <td>2570233</td>\n",
       "      <td>False</td>\n",
       "    </tr>\n",
       "  </tbody>\n",
       "</table>\n",
       "<p>289841 rows × 24 columns</p>\n",
       "</div>"
      ],
      "text/plain": [
       "        C_YEAR C_MNTH C_WDAY C_HOUR  C_SEV C_VEHS C_CONF C_RCFG C_WTHR C_RSUR  \\\n",
       "0         2017     01      1     10      2     01     02     03      1      3   \n",
       "1         2017     01      1     12      2     01     04     UU      1      5   \n",
       "2         2017     01      1     00      2     01     03     UU      7      3   \n",
       "3         2017     01      1     17      2     02     21     UU      1      1   \n",
       "4         2017     01      1     17      2     02     21     UU      1      1   \n",
       "...        ...    ...    ...    ...    ...    ...    ...    ...    ...    ...   \n",
       "289836    2017     UU      U     UU      2     UU     UU     01      U      U   \n",
       "289837    2017     UU      U     UU      2     UU     UU     01      U      U   \n",
       "289838    2017     UU      U     UU      2     UU     UU     01      U      U   \n",
       "289839    2017     UU      U     23      2     01     03     01      1      1   \n",
       "289840    2017     UU      U     23      2     01     03     01      1      1   \n",
       "\n",
       "        ... V_YEAR P_ID P_SEX P_AGE P_PSN P_ISEV P_SAFE P_USER   C_CASE  \\\n",
       "0       ...   UUUU   01     M    75    11      2     NN      1  2455950   \n",
       "1       ...   UUUU   01     F    21    11      2     02      1  2455959   \n",
       "2       ...   UUUU   01     F    34    11      2     02      1  2455998   \n",
       "3       ...   UUUU   01     F    50    11      2     02      1  2456104   \n",
       "4       ...   UUUU   01     M    63    11      1     NN      1  2456104   \n",
       "...     ...    ...  ...   ...   ...   ...    ...    ...    ...      ...   \n",
       "289836  ...   UUUU   01     F    20    11      1     NN      1  2455828   \n",
       "289837  ...   UUUU   01     F    47    11      1     NN      1  2455828   \n",
       "289838  ...   UUUU   01     M    24    11      1     NN      1  2455828   \n",
       "289839  ...   UUUU   01     M    45    96      2     09      U  2570233   \n",
       "289840  ...   UUUU   02     F    45    96      2     09      U  2570233   \n",
       "\n",
       "       FATALITY  \n",
       "0         False  \n",
       "1         False  \n",
       "2         False  \n",
       "3         False  \n",
       "4         False  \n",
       "...         ...  \n",
       "289836    False  \n",
       "289837    False  \n",
       "289838    False  \n",
       "289839    False  \n",
       "289840    False  \n",
       "\n",
       "[289841 rows x 24 columns]"
      ]
     },
     "execution_count": 4,
     "metadata": {},
     "output_type": "execute_result"
    }
   ],
   "source": [
    "ncdb.sort_index()"
   ]
  },
  {
   "cell_type": "code",
   "execution_count": 5,
   "id": "5cb1f550-720f-49c9-afb6-3ccfc54520bb",
   "metadata": {},
   "outputs": [
    {
     "data": {
      "text/plain": [
       "(289841, 24)"
      ]
     },
     "execution_count": 5,
     "metadata": {},
     "output_type": "execute_result"
    }
   ],
   "source": [
    "ncdb.shape"
   ]
  },
  {
   "cell_type": "markdown",
   "id": "ed8361a6-083b-4a51-a412-90d5274fac75",
   "metadata": {},
   "source": [
    "## Partition the data set into training and test sets"
   ]
  },
  {
   "cell_type": "markdown",
   "id": "bbdde826-30bb-4558-aaa3-8a476e443b9d",
   "metadata": {},
   "source": [
    "We will split the data such that the training set takes 90% of observations and the test set takes 10% of observations."
   ]
  },
  {
   "cell_type": "code",
   "execution_count": 6,
   "id": "8848fb1d-4931-47f1-a44f-e77b91a9a250",
   "metadata": {},
   "outputs": [],
   "source": [
    "nc_train, nc_test = train_test_split(ncdb, test_size=0.1, random_state=21)"
   ]
  },
  {
   "cell_type": "markdown",
   "id": "e2c83408-570f-4ca0-a8d4-033a564564ed",
   "metadata": {},
   "source": [
    "We will \"lock\" the test set and only look at the training set from now on. The train data set has 260856 observations and 24 features. The number of observations for the no-fatality vs. fatality classes is shown as follows."
   ]
  },
  {
   "cell_type": "code",
   "execution_count": 7,
   "id": "9f326e6f-ae94-43b3-a9ac-4e3ce2e273b4",
   "metadata": {},
   "outputs": [
    {
     "data": {
      "text/html": [
       "<div>\n",
       "<style scoped>\n",
       "    .dataframe tbody tr th:only-of-type {\n",
       "        vertical-align: middle;\n",
       "    }\n",
       "\n",
       "    .dataframe tbody tr th {\n",
       "        vertical-align: top;\n",
       "    }\n",
       "\n",
       "    .dataframe thead th {\n",
       "        text-align: right;\n",
       "    }\n",
       "</style>\n",
       "<table border=\"1\" class=\"dataframe\">\n",
       "  <thead>\n",
       "    <tr style=\"text-align: right;\">\n",
       "      <th></th>\n",
       "      <th>Train Count</th>\n",
       "    </tr>\n",
       "  </thead>\n",
       "  <tbody>\n",
       "    <tr>\n",
       "      <th>No fatality</th>\n",
       "      <td>259176</td>\n",
       "    </tr>\n",
       "    <tr>\n",
       "      <th>Fatality</th>\n",
       "      <td>1680</td>\n",
       "    </tr>\n",
       "  </tbody>\n",
       "</table>\n",
       "</div>"
      ],
      "text/plain": [
       "             Train Count\n",
       "No fatality       259176\n",
       "Fatality            1680"
      ]
     },
     "execution_count": 7,
     "metadata": {},
     "output_type": "execute_result"
    }
   ],
   "source": [
    "train_count = pd.DataFrame(nc_train['FATALITY'].value_counts())\n",
    "train_count.rename(index={'False':'No fatality', 'True':'Fatality'}, columns={'FATALITY':'Train Count'}, inplace=True)\n",
    "train_count"
   ]
  },
  {
   "cell_type": "markdown",
   "id": "2e972992-a59e-4a22-a0da-b138731f1998",
   "metadata": {},
   "source": [
    "From the data summary, we see a lot of missing values represented with characters such as \"N\", \"X\", etc. We will replace them with np.nan before we carry out EDA so that .describe() or .info() can pick those values as missing values, and to avoid errors later on when we try to pass the data to a classifier. "
   ]
  },
  {
   "cell_type": "code",
   "execution_count": 8,
   "id": "7bf4fd76-f639-4dc2-a1e4-2493fcb3a50b",
   "metadata": {},
   "outputs": [
    {
     "data": {
      "text/plain": [
       "(260856, 24)"
      ]
     },
     "execution_count": 8,
     "metadata": {},
     "output_type": "execute_result"
    }
   ],
   "source": [
    "null_value = ['N', 'NN', 'NNNN', 'Q', 'QQ', 'U', 'UU', 'UUUU', 'X', 'XX', 'XXXX']\n",
    "nc_train_nan = nc_train.replace(to_replace=null_value, value=np.nan)\n",
    "nc_test_nan = nc_test.replace(to_replace=null_value, value=np.nan)\n",
    "nc_train_nan.shape"
   ]
  },
  {
   "cell_type": "code",
   "execution_count": 9,
   "id": "4477b998-7efc-4cc1-912c-f47d3e29ba14",
   "metadata": {},
   "outputs": [
    {
     "data": {
      "text/html": [
       "<div>\n",
       "<style scoped>\n",
       "    .dataframe tbody tr th:only-of-type {\n",
       "        vertical-align: middle;\n",
       "    }\n",
       "\n",
       "    .dataframe tbody tr th {\n",
       "        vertical-align: top;\n",
       "    }\n",
       "\n",
       "    .dataframe thead th {\n",
       "        text-align: right;\n",
       "    }\n",
       "</style>\n",
       "<table border=\"1\" class=\"dataframe\">\n",
       "  <thead>\n",
       "    <tr style=\"text-align: right;\">\n",
       "      <th></th>\n",
       "      <th>C_YEAR</th>\n",
       "      <th>C_MNTH</th>\n",
       "      <th>C_WDAY</th>\n",
       "      <th>C_HOUR</th>\n",
       "      <th>C_SEV</th>\n",
       "      <th>C_VEHS</th>\n",
       "      <th>C_CONF</th>\n",
       "      <th>C_RCFG</th>\n",
       "      <th>C_WTHR</th>\n",
       "      <th>C_RSUR</th>\n",
       "      <th>...</th>\n",
       "      <th>V_YEAR</th>\n",
       "      <th>P_ID</th>\n",
       "      <th>P_SEX</th>\n",
       "      <th>P_AGE</th>\n",
       "      <th>P_PSN</th>\n",
       "      <th>P_ISEV</th>\n",
       "      <th>P_SAFE</th>\n",
       "      <th>P_USER</th>\n",
       "      <th>C_CASE</th>\n",
       "      <th>FATALITY</th>\n",
       "    </tr>\n",
       "  </thead>\n",
       "  <tbody>\n",
       "    <tr>\n",
       "      <th>0</th>\n",
       "      <td>2017</td>\n",
       "      <td>01</td>\n",
       "      <td>1</td>\n",
       "      <td>10</td>\n",
       "      <td>2</td>\n",
       "      <td>01</td>\n",
       "      <td>02</td>\n",
       "      <td>03</td>\n",
       "      <td>1</td>\n",
       "      <td>3</td>\n",
       "      <td>...</td>\n",
       "      <td>NaN</td>\n",
       "      <td>01</td>\n",
       "      <td>M</td>\n",
       "      <td>75</td>\n",
       "      <td>11</td>\n",
       "      <td>2</td>\n",
       "      <td>NaN</td>\n",
       "      <td>1</td>\n",
       "      <td>2455950</td>\n",
       "      <td>False</td>\n",
       "    </tr>\n",
       "    <tr>\n",
       "      <th>1</th>\n",
       "      <td>2017</td>\n",
       "      <td>01</td>\n",
       "      <td>1</td>\n",
       "      <td>12</td>\n",
       "      <td>2</td>\n",
       "      <td>01</td>\n",
       "      <td>04</td>\n",
       "      <td>NaN</td>\n",
       "      <td>1</td>\n",
       "      <td>5</td>\n",
       "      <td>...</td>\n",
       "      <td>NaN</td>\n",
       "      <td>01</td>\n",
       "      <td>F</td>\n",
       "      <td>21</td>\n",
       "      <td>11</td>\n",
       "      <td>2</td>\n",
       "      <td>02</td>\n",
       "      <td>1</td>\n",
       "      <td>2455959</td>\n",
       "      <td>False</td>\n",
       "    </tr>\n",
       "    <tr>\n",
       "      <th>2</th>\n",
       "      <td>2017</td>\n",
       "      <td>01</td>\n",
       "      <td>1</td>\n",
       "      <td>00</td>\n",
       "      <td>2</td>\n",
       "      <td>01</td>\n",
       "      <td>03</td>\n",
       "      <td>NaN</td>\n",
       "      <td>7</td>\n",
       "      <td>3</td>\n",
       "      <td>...</td>\n",
       "      <td>NaN</td>\n",
       "      <td>01</td>\n",
       "      <td>F</td>\n",
       "      <td>34</td>\n",
       "      <td>11</td>\n",
       "      <td>2</td>\n",
       "      <td>02</td>\n",
       "      <td>1</td>\n",
       "      <td>2455998</td>\n",
       "      <td>False</td>\n",
       "    </tr>\n",
       "    <tr>\n",
       "      <th>3</th>\n",
       "      <td>2017</td>\n",
       "      <td>01</td>\n",
       "      <td>1</td>\n",
       "      <td>17</td>\n",
       "      <td>2</td>\n",
       "      <td>02</td>\n",
       "      <td>21</td>\n",
       "      <td>NaN</td>\n",
       "      <td>1</td>\n",
       "      <td>1</td>\n",
       "      <td>...</td>\n",
       "      <td>NaN</td>\n",
       "      <td>01</td>\n",
       "      <td>F</td>\n",
       "      <td>50</td>\n",
       "      <td>11</td>\n",
       "      <td>2</td>\n",
       "      <td>02</td>\n",
       "      <td>1</td>\n",
       "      <td>2456104</td>\n",
       "      <td>False</td>\n",
       "    </tr>\n",
       "    <tr>\n",
       "      <th>4</th>\n",
       "      <td>2017</td>\n",
       "      <td>01</td>\n",
       "      <td>1</td>\n",
       "      <td>17</td>\n",
       "      <td>2</td>\n",
       "      <td>02</td>\n",
       "      <td>21</td>\n",
       "      <td>NaN</td>\n",
       "      <td>1</td>\n",
       "      <td>1</td>\n",
       "      <td>...</td>\n",
       "      <td>NaN</td>\n",
       "      <td>01</td>\n",
       "      <td>M</td>\n",
       "      <td>63</td>\n",
       "      <td>11</td>\n",
       "      <td>1</td>\n",
       "      <td>NaN</td>\n",
       "      <td>1</td>\n",
       "      <td>2456104</td>\n",
       "      <td>False</td>\n",
       "    </tr>\n",
       "    <tr>\n",
       "      <th>...</th>\n",
       "      <td>...</td>\n",
       "      <td>...</td>\n",
       "      <td>...</td>\n",
       "      <td>...</td>\n",
       "      <td>...</td>\n",
       "      <td>...</td>\n",
       "      <td>...</td>\n",
       "      <td>...</td>\n",
       "      <td>...</td>\n",
       "      <td>...</td>\n",
       "      <td>...</td>\n",
       "      <td>...</td>\n",
       "      <td>...</td>\n",
       "      <td>...</td>\n",
       "      <td>...</td>\n",
       "      <td>...</td>\n",
       "      <td>...</td>\n",
       "      <td>...</td>\n",
       "      <td>...</td>\n",
       "      <td>...</td>\n",
       "      <td>...</td>\n",
       "    </tr>\n",
       "    <tr>\n",
       "      <th>289835</th>\n",
       "      <td>2017</td>\n",
       "      <td>NaN</td>\n",
       "      <td>NaN</td>\n",
       "      <td>NaN</td>\n",
       "      <td>2</td>\n",
       "      <td>NaN</td>\n",
       "      <td>NaN</td>\n",
       "      <td>01</td>\n",
       "      <td>NaN</td>\n",
       "      <td>NaN</td>\n",
       "      <td>...</td>\n",
       "      <td>NaN</td>\n",
       "      <td>01</td>\n",
       "      <td>F</td>\n",
       "      <td>79</td>\n",
       "      <td>11</td>\n",
       "      <td>1</td>\n",
       "      <td>NaN</td>\n",
       "      <td>1</td>\n",
       "      <td>2455828</td>\n",
       "      <td>False</td>\n",
       "    </tr>\n",
       "    <tr>\n",
       "      <th>289836</th>\n",
       "      <td>2017</td>\n",
       "      <td>NaN</td>\n",
       "      <td>NaN</td>\n",
       "      <td>NaN</td>\n",
       "      <td>2</td>\n",
       "      <td>NaN</td>\n",
       "      <td>NaN</td>\n",
       "      <td>01</td>\n",
       "      <td>NaN</td>\n",
       "      <td>NaN</td>\n",
       "      <td>...</td>\n",
       "      <td>NaN</td>\n",
       "      <td>01</td>\n",
       "      <td>F</td>\n",
       "      <td>20</td>\n",
       "      <td>11</td>\n",
       "      <td>1</td>\n",
       "      <td>NaN</td>\n",
       "      <td>1</td>\n",
       "      <td>2455828</td>\n",
       "      <td>False</td>\n",
       "    </tr>\n",
       "    <tr>\n",
       "      <th>289838</th>\n",
       "      <td>2017</td>\n",
       "      <td>NaN</td>\n",
       "      <td>NaN</td>\n",
       "      <td>NaN</td>\n",
       "      <td>2</td>\n",
       "      <td>NaN</td>\n",
       "      <td>NaN</td>\n",
       "      <td>01</td>\n",
       "      <td>NaN</td>\n",
       "      <td>NaN</td>\n",
       "      <td>...</td>\n",
       "      <td>NaN</td>\n",
       "      <td>01</td>\n",
       "      <td>M</td>\n",
       "      <td>24</td>\n",
       "      <td>11</td>\n",
       "      <td>1</td>\n",
       "      <td>NaN</td>\n",
       "      <td>1</td>\n",
       "      <td>2455828</td>\n",
       "      <td>False</td>\n",
       "    </tr>\n",
       "    <tr>\n",
       "      <th>289839</th>\n",
       "      <td>2017</td>\n",
       "      <td>NaN</td>\n",
       "      <td>NaN</td>\n",
       "      <td>23</td>\n",
       "      <td>2</td>\n",
       "      <td>01</td>\n",
       "      <td>03</td>\n",
       "      <td>01</td>\n",
       "      <td>1</td>\n",
       "      <td>1</td>\n",
       "      <td>...</td>\n",
       "      <td>NaN</td>\n",
       "      <td>01</td>\n",
       "      <td>M</td>\n",
       "      <td>45</td>\n",
       "      <td>96</td>\n",
       "      <td>2</td>\n",
       "      <td>09</td>\n",
       "      <td>NaN</td>\n",
       "      <td>2570233</td>\n",
       "      <td>False</td>\n",
       "    </tr>\n",
       "    <tr>\n",
       "      <th>289840</th>\n",
       "      <td>2017</td>\n",
       "      <td>NaN</td>\n",
       "      <td>NaN</td>\n",
       "      <td>23</td>\n",
       "      <td>2</td>\n",
       "      <td>01</td>\n",
       "      <td>03</td>\n",
       "      <td>01</td>\n",
       "      <td>1</td>\n",
       "      <td>1</td>\n",
       "      <td>...</td>\n",
       "      <td>NaN</td>\n",
       "      <td>02</td>\n",
       "      <td>F</td>\n",
       "      <td>45</td>\n",
       "      <td>96</td>\n",
       "      <td>2</td>\n",
       "      <td>09</td>\n",
       "      <td>NaN</td>\n",
       "      <td>2570233</td>\n",
       "      <td>False</td>\n",
       "    </tr>\n",
       "  </tbody>\n",
       "</table>\n",
       "<p>260856 rows × 24 columns</p>\n",
       "</div>"
      ],
      "text/plain": [
       "        C_YEAR C_MNTH C_WDAY C_HOUR  C_SEV C_VEHS C_CONF C_RCFG C_WTHR C_RSUR  \\\n",
       "0         2017     01      1     10      2     01     02     03      1      3   \n",
       "1         2017     01      1     12      2     01     04    NaN      1      5   \n",
       "2         2017     01      1     00      2     01     03    NaN      7      3   \n",
       "3         2017     01      1     17      2     02     21    NaN      1      1   \n",
       "4         2017     01      1     17      2     02     21    NaN      1      1   \n",
       "...        ...    ...    ...    ...    ...    ...    ...    ...    ...    ...   \n",
       "289835    2017    NaN    NaN    NaN      2    NaN    NaN     01    NaN    NaN   \n",
       "289836    2017    NaN    NaN    NaN      2    NaN    NaN     01    NaN    NaN   \n",
       "289838    2017    NaN    NaN    NaN      2    NaN    NaN     01    NaN    NaN   \n",
       "289839    2017    NaN    NaN     23      2     01     03     01      1      1   \n",
       "289840    2017    NaN    NaN     23      2     01     03     01      1      1   \n",
       "\n",
       "        ... V_YEAR P_ID P_SEX P_AGE P_PSN P_ISEV P_SAFE P_USER   C_CASE  \\\n",
       "0       ...    NaN   01     M    75    11      2    NaN      1  2455950   \n",
       "1       ...    NaN   01     F    21    11      2     02      1  2455959   \n",
       "2       ...    NaN   01     F    34    11      2     02      1  2455998   \n",
       "3       ...    NaN   01     F    50    11      2     02      1  2456104   \n",
       "4       ...    NaN   01     M    63    11      1    NaN      1  2456104   \n",
       "...     ...    ...  ...   ...   ...   ...    ...    ...    ...      ...   \n",
       "289835  ...    NaN   01     F    79    11      1    NaN      1  2455828   \n",
       "289836  ...    NaN   01     F    20    11      1    NaN      1  2455828   \n",
       "289838  ...    NaN   01     M    24    11      1    NaN      1  2455828   \n",
       "289839  ...    NaN   01     M    45    96      2     09    NaN  2570233   \n",
       "289840  ...    NaN   02     F    45    96      2     09    NaN  2570233   \n",
       "\n",
       "       FATALITY  \n",
       "0         False  \n",
       "1         False  \n",
       "2         False  \n",
       "3         False  \n",
       "4         False  \n",
       "...         ...  \n",
       "289835    False  \n",
       "289836    False  \n",
       "289838    False  \n",
       "289839    False  \n",
       "289840    False  \n",
       "\n",
       "[260856 rows x 24 columns]"
      ]
     },
     "execution_count": 9,
     "metadata": {},
     "output_type": "execute_result"
    }
   ],
   "source": [
    "nc_train_nan.sort_index()"
   ]
  },
  {
   "cell_type": "markdown",
   "id": "20e1d3a8-21c6-4c61-8fcf-814416cd6726",
   "metadata": {},
   "source": [
    "We gather the summary statistics of the train data set as follows."
   ]
  },
  {
   "cell_type": "code",
   "execution_count": 10,
   "id": "c8caf290-333f-4747-8741-938634c5cc99",
   "metadata": {},
   "outputs": [
    {
     "name": "stdout",
     "output_type": "stream",
     "text": [
      "<class 'pandas.core.frame.DataFrame'>\n",
      "Int64Index: 260856 entries, 102310 to 80841\n",
      "Data columns (total 24 columns):\n",
      " #   Column    Non-Null Count   Dtype \n",
      "---  ------    --------------   ----- \n",
      " 0   C_YEAR    260856 non-null  int64 \n",
      " 1   C_MNTH    260839 non-null  object\n",
      " 2   C_WDAY    260839 non-null  object\n",
      " 3   C_HOUR    258903 non-null  object\n",
      " 4   C_SEV     260856 non-null  int64 \n",
      " 5   C_VEHS    260836 non-null  object\n",
      " 6   C_CONF    238175 non-null  object\n",
      " 7   C_RCFG    238909 non-null  object\n",
      " 8   C_WTHR    257420 non-null  object\n",
      " 9   C_RSUR    250869 non-null  object\n",
      " 10  C_RALN    248306 non-null  object\n",
      " 11  C_TRAF    245338 non-null  object\n",
      " 12  V_ID      260845 non-null  object\n",
      " 13  V_TYPE    246911 non-null  object\n",
      " 14  V_YEAR    234799 non-null  object\n",
      " 15  P_ID      260709 non-null  object\n",
      " 16  P_SEX     247756 non-null  object\n",
      " 17  P_AGE     245231 non-null  object\n",
      " 18  P_PSN     254207 non-null  object\n",
      " 19  P_ISEV    245556 non-null  object\n",
      " 20  P_SAFE    203476 non-null  object\n",
      " 21  P_USER    251142 non-null  object\n",
      " 22  C_CASE    260856 non-null  int64 \n",
      " 23  FATALITY  260856 non-null  object\n",
      "dtypes: int64(3), object(21)\n",
      "memory usage: 49.8+ MB\n"
     ]
    }
   ],
   "source": [
    "nc_train_nan.info()"
   ]
  },
  {
   "cell_type": "code",
   "execution_count": 11,
   "id": "075edeee-aabe-4e25-a522-b50f748d46ae",
   "metadata": {},
   "outputs": [
    {
     "data": {
      "text/html": [
       "<div>\n",
       "<style scoped>\n",
       "    .dataframe tbody tr th:only-of-type {\n",
       "        vertical-align: middle;\n",
       "    }\n",
       "\n",
       "    .dataframe tbody tr th {\n",
       "        vertical-align: top;\n",
       "    }\n",
       "\n",
       "    .dataframe thead th {\n",
       "        text-align: right;\n",
       "    }\n",
       "</style>\n",
       "<table border=\"1\" class=\"dataframe\">\n",
       "  <thead>\n",
       "    <tr style=\"text-align: right;\">\n",
       "      <th></th>\n",
       "      <th>C_YEAR</th>\n",
       "      <th>C_SEV</th>\n",
       "      <th>C_CASE</th>\n",
       "    </tr>\n",
       "  </thead>\n",
       "  <tbody>\n",
       "    <tr>\n",
       "      <th>count</th>\n",
       "      <td>260856.0</td>\n",
       "      <td>260856.000000</td>\n",
       "      <td>2.608560e+05</td>\n",
       "    </tr>\n",
       "    <tr>\n",
       "      <th>mean</th>\n",
       "      <td>2017.0</td>\n",
       "      <td>1.984769</td>\n",
       "      <td>2.512672e+06</td>\n",
       "    </tr>\n",
       "    <tr>\n",
       "      <th>std</th>\n",
       "      <td>0.0</td>\n",
       "      <td>0.122469</td>\n",
       "      <td>3.294483e+04</td>\n",
       "    </tr>\n",
       "    <tr>\n",
       "      <th>min</th>\n",
       "      <td>2017.0</td>\n",
       "      <td>1.000000</td>\n",
       "      <td>2.455828e+06</td>\n",
       "    </tr>\n",
       "    <tr>\n",
       "      <th>25%</th>\n",
       "      <td>2017.0</td>\n",
       "      <td>2.000000</td>\n",
       "      <td>2.484665e+06</td>\n",
       "    </tr>\n",
       "    <tr>\n",
       "      <th>50%</th>\n",
       "      <td>2017.0</td>\n",
       "      <td>2.000000</td>\n",
       "      <td>2.512022e+06</td>\n",
       "    </tr>\n",
       "    <tr>\n",
       "      <th>75%</th>\n",
       "      <td>2017.0</td>\n",
       "      <td>2.000000</td>\n",
       "      <td>2.541492e+06</td>\n",
       "    </tr>\n",
       "    <tr>\n",
       "      <th>max</th>\n",
       "      <td>2017.0</td>\n",
       "      <td>2.000000</td>\n",
       "      <td>2.570235e+06</td>\n",
       "    </tr>\n",
       "  </tbody>\n",
       "</table>\n",
       "</div>"
      ],
      "text/plain": [
       "         C_YEAR          C_SEV        C_CASE\n",
       "count  260856.0  260856.000000  2.608560e+05\n",
       "mean     2017.0       1.984769  2.512672e+06\n",
       "std         0.0       0.122469  3.294483e+04\n",
       "min      2017.0       1.000000  2.455828e+06\n",
       "25%      2017.0       2.000000  2.484665e+06\n",
       "50%      2017.0       2.000000  2.512022e+06\n",
       "75%      2017.0       2.000000  2.541492e+06\n",
       "max      2017.0       2.000000  2.570235e+06"
      ]
     },
     "execution_count": 11,
     "metadata": {},
     "output_type": "execute_result"
    }
   ],
   "source": [
    "nc_train_nan.describe()"
   ]
  },
  {
   "cell_type": "markdown",
   "id": "c10c5347-ba69-4738-a859-3546284b26ee",
   "metadata": {},
   "source": [
    "## Perform exploratory data analysis on the training set"
   ]
  },
  {
   "cell_type": "markdown",
   "id": "fc4e90f6-ea8d-4257-9cc2-8b1d5eaa234f",
   "metadata": {},
   "source": [
    "In search of features that might be beneficial in predicting the fatality class, we selected top five predictors (based on intuition), plotted the distributions of each predictor from the training data set, and faceted the distribution by class (no-fatality: blue, fatality: orange).\n",
    "\n",
    "Predictors are plotted in the following order: \n",
    "1. Weather condition\n",
    "2. Road configuration\n",
    "3. Month \n",
    "4. Vehicle type\n",
    "5. Driver age"
   ]
  },
  {
   "cell_type": "code",
   "execution_count": 12,
   "id": "7eafaf8a-f1fd-445b-902c-8401bb234115",
   "metadata": {},
   "outputs": [],
   "source": [
    "def create_chart(col, title):\n",
    "    \"\"\"\n",
    "    Returns distribution plots of the feature of interest from the dataframe `nc_train_nan`.\n",
    "    The plot is faceted by class (no-fatality: blue, fatality: orange).\n",
    "\n",
    "    Parameters\n",
    "    ----------\n",
    "    col : str\n",
    "        the feature of interest\n",
    "    title : str\n",
    "        the label for the feature in the returned plot\n",
    "\n",
    "    Returns\n",
    "    -------\n",
    "    out: altair.vegalite.v4.api.FacetChart \n",
    "       the faceted distribution plots \n",
    "    \n",
    "    Examples\n",
    "    --------\n",
    "    >>> create_chart('C_WTHR', 'Weather condition')\n",
    "    \"\"\"\n",
    "    \n",
    "    if col == 'P_AGE':\n",
    "        chart = alt.Chart(nc_train_nan).mark_line().encode(\n",
    "                    x=alt.X('P_AGE:Q', title=title),\n",
    "                    y=alt.Y('count()', title='Number of collisions'),\n",
    "                    color=alt.Color('FATALITY', legend=None)\n",
    "                ).properties(\n",
    "                    width=300,\n",
    "                    height=300\n",
    "                ).facet('FATALITY'\n",
    "                ).resolve_scale(y='independent'\n",
    "        )\n",
    "    \n",
    "    else:\n",
    "        chart = alt.Chart(nc_train_nan).mark_bar(opacity=0.8).encode(\n",
    "                    x=alt.X(col, title=title),\n",
    "                    y=alt.Y('count()', title='Number of collisions'),\n",
    "                    color=alt.Color('FATALITY', legend=None)\n",
    "                ).properties(\n",
    "                    width=300,\n",
    "                    height=300\n",
    "                ).facet('FATALITY'\n",
    "                ).resolve_scale(y='independent'\n",
    "        )\n",
    "        \n",
    "    return chart"
   ]
  },
  {
   "cell_type": "code",
   "execution_count": 13,
   "id": "badc7555-4482-46d1-a7b6-8b7ddd9364d3",
   "metadata": {},
   "outputs": [
    {
     "data": {
      "application/vnd.vegalite.v4+json": {
       "$schema": "https://vega.github.io/schema/vega-lite/v4.8.1.json",
       "config": {
        "view": {
         "continuousHeight": 300,
         "continuousWidth": 400
        }
       },
       "data": {
        "url": "http://localhost:21518/38db8183a92dd1deb71c660dcbf2c7eb.json"
       },
       "facet": {
        "field": "FATALITY",
        "type": "nominal"
       },
       "resolve": {
        "scale": {
         "y": "independent"
        }
       },
       "spec": {
        "encoding": {
         "color": {
          "field": "FATALITY",
          "legend": null,
          "type": "nominal"
         },
         "x": {
          "field": "C_WTHR",
          "title": "Weather condition",
          "type": "nominal"
         },
         "y": {
          "aggregate": "count",
          "title": "Number of collisions",
          "type": "quantitative"
         }
        },
        "height": 300,
        "mark": {
         "opacity": 0.8,
         "type": "bar"
        },
        "width": 300
       }
      },
      "image/png": "[encoded data removed]",
      "text/plain": [
       "<VegaLite 4 object>\n",
       "\n",
       "If you see this message, it means the renderer has not been properly enabled\n",
       "for the frontend that you are using. For more information, see\n",
       "https://altair-viz.github.io/user_guide/troubleshooting.html\n"
      ]
     },
     "execution_count": 13,
     "metadata": {},
     "output_type": "execute_result"
    }
   ],
   "source": [
    "create_chart('C_WTHR', 'Weather condition')"
   ]
  },
  {
   "cell_type": "code",
   "execution_count": 14,
   "id": "afb5473f-5495-45e7-9144-376b9c04c6db",
   "metadata": {},
   "outputs": [
    {
     "data": {
      "application/vnd.vegalite.v4+json": {
       "$schema": "https://vega.github.io/schema/vega-lite/v4.8.1.json",
       "config": {
        "view": {
         "continuousHeight": 300,
         "continuousWidth": 400
        }
       },
       "data": {
        "url": "http://localhost:21518/38db8183a92dd1deb71c660dcbf2c7eb.json"
       },
       "facet": {
        "field": "FATALITY",
        "type": "nominal"
       },
       "resolve": {
        "scale": {
         "y": "independent"
        }
       },
       "spec": {
        "encoding": {
         "color": {
          "field": "FATALITY",
          "legend": null,
          "type": "nominal"
         },
         "x": {
          "field": "C_RCFG",
          "title": "Road configuration",
          "type": "nominal"
         },
         "y": {
          "aggregate": "count",
          "title": "Number of collisions",
          "type": "quantitative"
         }
        },
        "height": 300,
        "mark": {
         "opacity": 0.8,
         "type": "bar"
        },
        "width": 300
       }
      },
      "image/png": "[encoded data removed]",
      "text/plain": [
       "<VegaLite 4 object>\n",
       "\n",
       "If you see this message, it means the renderer has not been properly enabled\n",
       "for the frontend that you are using. For more information, see\n",
       "https://altair-viz.github.io/user_guide/troubleshooting.html\n"
      ]
     },
     "execution_count": 14,
     "metadata": {},
     "output_type": "execute_result"
    }
   ],
   "source": [
    "create_chart('C_RCFG', 'Road configuration')"
   ]
  },
  {
   "cell_type": "code",
   "execution_count": 15,
   "id": "ff1f4123-fa12-4ea2-ac17-a0e10b77c116",
   "metadata": {},
   "outputs": [
    {
     "data": {
      "application/vnd.vegalite.v4+json": {
       "$schema": "https://vega.github.io/schema/vega-lite/v4.8.1.json",
       "config": {
        "view": {
         "continuousHeight": 300,
         "continuousWidth": 400
        }
       },
       "data": {
        "url": "http://localhost:21518/38db8183a92dd1deb71c660dcbf2c7eb.json"
       },
       "facet": {
        "field": "FATALITY",
        "type": "nominal"
       },
       "resolve": {
        "scale": {
         "y": "independent"
        }
       },
       "spec": {
        "encoding": {
         "color": {
          "field": "FATALITY",
          "legend": null,
          "type": "nominal"
         },
         "x": {
          "field": "C_MNTH",
          "title": "Month",
          "type": "nominal"
         },
         "y": {
          "aggregate": "count",
          "title": "Number of collisions",
          "type": "quantitative"
         }
        },
        "height": 300,
        "mark": {
         "opacity": 0.8,
         "type": "bar"
        },
        "width": 300
       }
      },
      "image/png": "[encoded data removed]",
      "text/plain": [
       "<VegaLite 4 object>\n",
       "\n",
       "If you see this message, it means the renderer has not been properly enabled\n",
       "for the frontend that you are using. For more information, see\n",
       "https://altair-viz.github.io/user_guide/troubleshooting.html\n"
      ]
     },
     "execution_count": 15,
     "metadata": {},
     "output_type": "execute_result"
    }
   ],
   "source": [
    "create_chart('C_MNTH', 'Month')"
   ]
  },
  {
   "cell_type": "code",
   "execution_count": 16,
   "id": "a7863e8e-9aef-4dd6-993c-96effffcac88",
   "metadata": {},
   "outputs": [
    {
     "data": {
      "application/vnd.vegalite.v4+json": {
       "$schema": "https://vega.github.io/schema/vega-lite/v4.8.1.json",
       "config": {
        "view": {
         "continuousHeight": 300,
         "continuousWidth": 400
        }
       },
       "data": {
        "url": "http://localhost:21518/38db8183a92dd1deb71c660dcbf2c7eb.json"
       },
       "facet": {
        "field": "FATALITY",
        "type": "nominal"
       },
       "resolve": {
        "scale": {
         "y": "independent"
        }
       },
       "spec": {
        "encoding": {
         "color": {
          "field": "FATALITY",
          "legend": null,
          "type": "nominal"
         },
         "x": {
          "field": "V_TYPE",
          "title": "Vehicle type",
          "type": "nominal"
         },
         "y": {
          "aggregate": "count",
          "title": "Number of collisions",
          "type": "quantitative"
         }
        },
        "height": 300,
        "mark": {
         "opacity": 0.8,
         "type": "bar"
        },
        "width": 300
       }
      },
      "image/png": "[encoded data removed]",
      "text/plain": [
       "<VegaLite 4 object>\n",
       "\n",
       "If you see this message, it means the renderer has not been properly enabled\n",
       "for the frontend that you are using. For more information, see\n",
       "https://altair-viz.github.io/user_guide/troubleshooting.html\n"
      ]
     },
     "execution_count": 16,
     "metadata": {},
     "output_type": "execute_result"
    }
   ],
   "source": [
    "create_chart('V_TYPE', 'Vehicle type')"
   ]
  },
  {
   "cell_type": "code",
   "execution_count": 17,
   "id": "bb8b6a81-567c-4c17-a780-c4019fa94e2d",
   "metadata": {},
   "outputs": [
    {
     "data": {
      "application/vnd.vegalite.v4+json": {
       "$schema": "https://vega.github.io/schema/vega-lite/v4.8.1.json",
       "config": {
        "view": {
         "continuousHeight": 300,
         "continuousWidth": 400
        }
       },
       "data": {
        "url": "http://localhost:21518/38db8183a92dd1deb71c660dcbf2c7eb.json"
       },
       "facet": {
        "field": "FATALITY",
        "type": "nominal"
       },
       "resolve": {
        "scale": {
         "y": "independent"
        }
       },
       "spec": {
        "encoding": {
         "color": {
          "field": "FATALITY",
          "legend": null,
          "type": "nominal"
         },
         "x": {
          "field": "P_AGE",
          "title": "Driver age",
          "type": "quantitative"
         },
         "y": {
          "aggregate": "count",
          "title": "Number of collisions",
          "type": "quantitative"
         }
        },
        "height": 300,
        "mark": "line",
        "width": 300
       }
      },
      "image/png": "[encoded data removed]",
      "text/plain": [
       "<VegaLite 4 object>\n",
       "\n",
       "If you see this message, it means the renderer has not been properly enabled\n",
       "for the frontend that you are using. For more information, see\n",
       "https://altair-viz.github.io/user_guide/troubleshooting.html\n"
      ]
     },
     "execution_count": 17,
     "metadata": {},
     "output_type": "execute_result"
    }
   ],
   "source": [
    "create_chart('P_AGE', 'Driver age')"
   ]
  },
  {
   "cell_type": "markdown",
   "id": "ff7cefb3-63f3-4a3f-9343-f2e485362fa6",
   "metadata": {},
   "source": [
    "## Create a profile report using `pandas-profiling` (optional)"
   ]
  },
  {
   "cell_type": "markdown",
   "id": "32d64668-604f-40d9-ba43-66a33bfc9179",
   "metadata": {},
   "source": [
    "Uncomment the following code to produce the profile report. We made it optional because the code takes quite a while to run and does not render well on GitHub."
   ]
  },
  {
   "cell_type": "code",
   "execution_count": 18,
   "id": "28673f50-cccb-4c28-bbb4-7953741e5617",
   "metadata": {},
   "outputs": [],
   "source": [
    "# pip install pandas-profiling\n",
    "# pip install ipywidgets\n",
    "\n",
    "#from pandas_profiling import ProfileReport\n",
    "\n",
    "#profile = ProfileReport(nc_train_nan, title='National Collision Database 2017')\n",
    "\n",
    "#profile.to_notebook_iframe()"
   ]
  }
 ],
 "metadata": {
  "kernelspec": {
   "display_name": "Python [conda env:571]",
   "language": "python",
   "name": "conda-env-571-py"
  },
  "language_info": {
   "codemirror_mode": {
    "name": "ipython",
    "version": 3
   },
   "file_extension": ".py",
   "mimetype": "text/x-python",
   "name": "python",
   "nbconvert_exporter": "python",
   "pygments_lexer": "ipython3",
   "version": "3.9.7"
  }
 },
 "nbformat": 4,
 "nbformat_minor": 5
}
