{
 "cells": [
  {
   "cell_type": "markdown",
   "id": "d8885ea7-deb9-4104-b010-39c3c344196a",
   "metadata": {},
   "source": [
    "# Exploratory Data Analysis"
   ]
  },
  {
   "cell_type": "markdown",
   "id": "1de8a224-d7b1-4777-b116-d6ef233886c6",
   "metadata": {},
   "source": [
    "<div class=\"alert alert-info\" style=\"color:black\">\n",
    "\n",
    "## National Collision Database\n",
    "\n",
    "<p>This Jupyter Notebook consists of exploratory data analysis carried out on the national collision database using Python's ALTAIR:</p>\n",
    "\n",
    "<ul>\n",
    "  <li><a href=\"https://github.com/UBC-MDS/Collision_Prediction\">\n",
    "      Link to the Project Repo on Github.com.</a></li>\n",
    "  <li>Viualization1 placeholder</li>\n",
    "  <li>Viualization2 placeholder</li>\n",
    "  <li>Viualization3 placeholder</li>\n",
    "</ul>\n",
    "</div>"
   ]
  },
  {
   "cell_type": "code",
   "execution_count": 1,
   "id": "f964ad60-4414-4278-8b00-9024455b8b74",
   "metadata": {},
   "outputs": [
    {
     "data": {
      "text/plain": [
       "DataTransformerRegistry.enable('data_server')"
      ]
     },
     "execution_count": 1,
     "metadata": {},
     "output_type": "execute_result"
    }
   ],
   "source": [
    "import pandas as pd\n",
    "import numpy as np\n",
    "import altair as alt\n",
    "\n",
    "# Handle large data sets without embedding them in the notebook\n",
    "alt.data_transformers.enable('data_server')\n",
    "# Gradescope only supports displaying plots as images\n",
    "# alt.renderers.enable('png')"
   ]
  }
 ],
 "metadata": {
  "kernelspec": {
   "display_name": "Python [conda env:.conda-531]",
   "language": "python",
   "name": "conda-env-.conda-531-py"
  },
  "language_info": {
   "codemirror_mode": {
    "name": "ipython",
    "version": 3
   },
   "file_extension": ".py",
   "mimetype": "text/x-python",
   "name": "python",
   "nbconvert_exporter": "python",
   "pygments_lexer": "ipython3",
   "version": "3.9.7"
  }
 },
 "nbformat": 4,
 "nbformat_minor": 5
}
